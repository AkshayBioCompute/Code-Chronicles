{
 "cells": [
  {
   "cell_type": "markdown",
   "id": "1805ac6f-2bbd-4ff2-a1eb-a181f78c44d9",
   "metadata": {},
   "source": [
    "### **Step 1: Import Libraries**\n",
    "Start by importing the necessary libraries."
   ]
  },
  {
   "cell_type": "code",
   "execution_count": 2,
   "id": "1e752a28-3d12-44d1-aa21-c6d64b75ec09",
   "metadata": {},
   "outputs": [
    {
     "name": "stderr",
     "output_type": "stream",
     "text": [
      "2025-01-04 00:49:05.317974: I external/local_xla/xla/tsl/cuda/cudart_stub.cc:32] Could not find cuda drivers on your machine, GPU will not be used.\n",
      "2025-01-04 00:49:05.320861: I external/local_xla/xla/tsl/cuda/cudart_stub.cc:32] Could not find cuda drivers on your machine, GPU will not be used.\n",
      "2025-01-04 00:49:05.330424: E external/local_xla/xla/stream_executor/cuda/cuda_fft.cc:477] Unable to register cuFFT factory: Attempting to register factory for plugin cuFFT when one has already been registered\n",
      "WARNING: All log messages before absl::InitializeLog() is called are written to STDERR\n",
      "E0000 00:00:1735931945.346481   40647 cuda_dnn.cc:8310] Unable to register cuDNN factory: Attempting to register factory for plugin cuDNN when one has already been registered\n",
      "E0000 00:00:1735931945.351148   40647 cuda_blas.cc:1418] Unable to register cuBLAS factory: Attempting to register factory for plugin cuBLAS when one has already been registered\n",
      "2025-01-04 00:49:05.370247: I tensorflow/core/platform/cpu_feature_guard.cc:210] This TensorFlow binary is optimized to use available CPU instructions in performance-critical operations.\n",
      "To enable the following instructions: AVX2 FMA, in other operations, rebuild TensorFlow with the appropriate compiler flags.\n",
      "/tmp/ipykernel_40647/243345915.py:9: DeprecationWarning: `import kerastuner` is deprecated, please use `import keras_tuner`.\n",
      "  from kerastuner.tuners import RandomSearch\n"
     ]
    }
   ],
   "source": [
    "import pandas as pd\n",
    "import numpy as np\n",
    "from sklearn.model_selection import train_test_split, StratifiedKFold\n",
    "from sklearn.preprocessing import LabelEncoder, StandardScaler\n",
    "import matplotlib.pyplot as plt\n",
    "from tensorflow.keras.models import Sequential\n",
    "from tensorflow.keras.layers import Dense, Dropout\n",
    "from tensorflow.keras.optimizers import Adam\n",
    "from kerastuner.tuners import RandomSearch\n",
    "from sklearn.metrics import confusion_matrix, classification_report\n"
   ]
  },
  {
   "cell_type": "markdown",
   "id": "d039e9b0-46f0-49bf-9758-3ada8479c7a0",
   "metadata": {},
   "source": [
    "### **Step 2: Load and Preprocess the Data**\n",
    "Download the breast cancer dataset and prepare it for training."
   ]
  },
  {
   "cell_type": "code",
   "execution_count": 3,
   "id": "8feb0294-e278-4c26-b526-a816a1f4b167",
   "metadata": {},
   "outputs": [
    {
     "name": "stdout",
     "output_type": "stream",
     "text": [
      "  radius_mean texture_mean perimeter_mean area_mean smoothness_mean  \\\n",
      "0     '40-49'    'premeno'        '15-19'     '0-2'           'yes'   \n",
      "1     '50-59'       'ge40'        '15-19'     '0-2'            'no'   \n",
      "2     '50-59'       'ge40'        '35-39'     '0-2'            'no'   \n",
      "3     '40-49'    'premeno'        '35-39'     '0-2'           'yes'   \n",
      "4     '40-49'    'premeno'        '30-34'     '3-5'           'yes'   \n",
      "\n",
      "  compactness_mean concavity_mean concave_points_mean symmetry_mean  \\\n",
      "0              '3'        'right'           'left_up'          'no'   \n",
      "1              '1'        'right'           'central'          'no'   \n",
      "2              '2'         'left'          'left_low'          'no'   \n",
      "3              '3'        'right'          'left_low'         'yes'   \n",
      "4              '2'         'left'          'right_up'          'no'   \n",
      "\n",
      "   fractal_dimension_mean  diagnosis  \n",
      "0     'recurrence-events'        NaN  \n",
      "1  'no-recurrence-events'        NaN  \n",
      "2     'recurrence-events'        NaN  \n",
      "3  'no-recurrence-events'        NaN  \n",
      "4     'recurrence-events'        NaN  \n"
     ]
    }
   ],
   "source": [
    "dataset_url = \"https://raw.githubusercontent.com/jbrownlee/Datasets/master/breast-cancer.csv\"\n",
    "column_names = [\n",
    "    \"radius_mean\", \"texture_mean\", \"perimeter_mean\", \"area_mean\", \"smoothness_mean\",\n",
    "    \"compactness_mean\", \"concavity_mean\", \"concave_points_mean\", \"symmetry_mean\", \"fractal_dimension_mean\",\n",
    "    \"diagnosis\"\n",
    "]\n",
    "data = pd.read_csv(dataset_url, names=column_names)\n",
    "print(data.head())"
   ]
  },
  {
   "cell_type": "markdown",
   "id": "dbe6d532-71a1-4b01-8f17-afdda3b69eb4",
   "metadata": {},
   "source": [
    "### **Step 3: Encode Non-Numeric Columns**\n"
   ]
  },
  {
   "cell_type": "code",
   "execution_count": 4,
   "id": "000aaf82-54e8-4002-80c7-c01dd26fed75",
   "metadata": {},
   "outputs": [
    {
     "name": "stdout",
     "output_type": "stream",
     "text": [
      "Encoding non-numeric column: radius_mean\n",
      "Encoding non-numeric column: texture_mean\n",
      "Encoding non-numeric column: perimeter_mean\n",
      "Encoding non-numeric column: area_mean\n",
      "Encoding non-numeric column: smoothness_mean\n",
      "Encoding non-numeric column: compactness_mean\n",
      "Encoding non-numeric column: concavity_mean\n",
      "Encoding non-numeric column: concave_points_mean\n",
      "Encoding non-numeric column: symmetry_mean\n",
      "Encoding non-numeric column: fractal_dimension_mean\n"
     ]
    }
   ],
   "source": [
    "for col in data.columns:\n",
    "    if data[col].dtype == 'object':\n",
    "        print(f\"Encoding non-numeric column: {col}\")\n",
    "        data[col] = LabelEncoder().fit_transform(data[col])\n"
   ]
  },
  {
   "cell_type": "markdown",
   "id": "c926f168-cd57-4b88-85ec-fe42b794e042",
   "metadata": {},
   "source": [
    "### **Step 4: Encode the Target Variable**\n"
   ]
  },
  {
   "cell_type": "code",
   "execution_count": 5,
   "id": "348181be-69b6-4472-9f6d-8bd9fa2173de",
   "metadata": {},
   "outputs": [],
   "source": [
    "data['diagnosis'] = LabelEncoder().fit_transform(data['diagnosis'])\n"
   ]
  },
  {
   "cell_type": "markdown",
   "id": "7b5a7620-4b3f-47a4-8ad7-47c74bdb300b",
   "metadata": {},
   "source": [
    "### **Step 5: Split Features and Target**\n"
   ]
  },
  {
   "cell_type": "code",
   "execution_count": 6,
   "id": "14aa5b4f-b94a-4dfe-b6c0-173564d761de",
   "metadata": {},
   "outputs": [],
   "source": [
    "features = data.iloc[:, :-1]\n",
    "target = data.iloc[:, -1]\n",
    "\n",
    "scaler = StandardScaler()\n",
    "features = scaler.fit_transform(features)\n"
   ]
  },
  {
   "cell_type": "markdown",
   "id": "1151b08e-cf05-4307-9552-d8e44805448b",
   "metadata": {},
   "source": [
    "### **Step 6: Split the Dataset**\n",
    "Split the dataset into training and testing set6."
   ]
  },
  {
   "cell_type": "code",
   "execution_count": 7,
   "id": "1519ed1e-a97c-4d6b-8412-d2b39f650e38",
   "metadata": {},
   "outputs": [],
   "source": [
    "X_train, X_test, y_train, y_test = train_test_split(features, target, test_size=0.2, random_state=42)\n"
   ]
  },
  {
   "cell_type": "markdown",
   "id": "57b8356e-7bbb-459c-916a-1a664407c666",
   "metadata": {},
   "source": [
    "### **Step 7: Define a Hyperparameter Tuning Function**\n",
    "Use Keras Tuner to define and tune hyperparameters."
   ]
  },
  {
   "cell_type": "code",
   "execution_count": 8,
   "id": "077837ad-21e1-4584-86be-9cc385732c19",
   "metadata": {},
   "outputs": [],
   "source": [
    "def build_model(hp):\n",
    "    model = Sequential()\n",
    "    model.add(Dense(units=hp.Int('units_1', min_value=8, max_value=64, step=8), activation='relu', input_dim=X_train.shape[1]))\n",
    "    model.add(Dropout(hp.Float('dropout_1', min_value=0.1, max_value=0.5, step=0.1)))\n",
    "\n",
    "    for i in range(hp.Int('num_layers', 1, 3)):\n",
    "        model.add(Dense(units=hp.Int(f'units_{i+2}', min_value=8, max_value=64, step=8), activation='relu'))\n",
    "        model.add(Dropout(hp.Float(f'dropout_{i+2}', min_value=0.1, max_value=0.5, step=0.1)))\n",
    "\n",
    "    model.add(Dense(1, activation='sigmoid'))\n",
    "    model.compile(\n",
    "        optimizer=Adam(learning_rate=hp.Choice('learning_rate', [0.001, 0.0001, 0.00001])),\n",
    "        loss='binary_crossentropy',\n",
    "        metrics=['accuracy']\n",
    "    )\n",
    "    return model\n"
   ]
  },
  {
   "cell_type": "markdown",
   "id": "80ea393a-8582-46d0-b29c-8109c306389b",
   "metadata": {},
   "source": [
    "### **Step 8: Perform Hyperparameter Tuning**\n",
    "Search for the best hyperparameters using Keras Tuner."
   ]
  },
  {
   "cell_type": "code",
   "execution_count": 9,
   "id": "c37d988b-8c39-4881-8aa2-7f6725d44f00",
   "metadata": {},
   "outputs": [
    {
     "name": "stdout",
     "output_type": "stream",
     "text": [
      "Reloading Tuner from tuner_results/breast_cancer_classification/tuner0.json\n"
     ]
    },
    {
     "name": "stderr",
     "output_type": "stream",
     "text": [
      "2025-01-04 00:49:16.701598: E external/local_xla/xla/stream_executor/cuda/cuda_driver.cc:152] failed call to cuInit: INTERNAL: CUDA error: Failed call to cuInit: UNKNOWN ERROR (303)\n"
     ]
    }
   ],
   "source": [
    "tuner = RandomSearch(\n",
    "    build_model,\n",
    "    objective='val_accuracy',\n",
    "    max_trials=10,\n",
    "    executions_per_trial=2,\n",
    "    directory='tuner_results',\n",
    "    project_name='breast_cancer_classification'\n",
    ")\n",
    "\n",
    "tuner.search(X_train, y_train, validation_data=(X_test, y_test), epochs=20, batch_size=16)\n"
   ]
  },
  {
   "cell_type": "markdown",
   "id": "eb11b7ef-4d79-426b-9454-942cdbfaad1b",
   "metadata": {},
   "source": [
    "### **Step 9: Retrieve Best Hyperparameters**\n"
   ]
  },
  {
   "cell_type": "code",
   "execution_count": 10,
   "id": "3ba7528c-7d1c-473c-bb25-37dccf5d3150",
   "metadata": {},
   "outputs": [
    {
     "name": "stdout",
     "output_type": "stream",
     "text": [
      "Best number of units: 40\n",
      "Best learning rate: 0.001\n"
     ]
    }
   ],
   "source": [
    "best_hps = tuner.get_best_hyperparameters(num_trials=1)[0]\n",
    "print(f\"Best number of units: {best_hps.get('units_1')}\")\n",
    "print(f\"Best learning rate: {best_hps.get('learning_rate')}\")\n"
   ]
  },
  {
   "cell_type": "markdown",
   "id": "7c46ca21-e4f6-45b1-94d3-d481713c0501",
   "metadata": {},
   "source": [
    "### **Step 10: Build and Train the Best Model**\n",
    "Use the best hyperparameters for final training."
   ]
  },
  {
   "cell_type": "code",
   "execution_count": 11,
   "id": "0ad81b9a-a18e-4a5f-aad1-60d84cf882e0",
   "metadata": {},
   "outputs": [
    {
     "name": "stdout",
     "output_type": "stream",
     "text": [
      "Epoch 1/40\n"
     ]
    },
    {
     "name": "stderr",
     "output_type": "stream",
     "text": [
      "/home/akkey/.local/lib/python3.10/site-packages/keras/src/layers/core/dense.py:87: UserWarning: Do not pass an `input_shape`/`input_dim` argument to a layer. When using Sequential models, prefer using an `Input(shape)` object as the first layer in the model instead.\n",
      "  super().__init__(activity_regularizer=activity_regularizer, **kwargs)\n"
     ]
    },
    {
     "name": "stdout",
     "output_type": "stream",
     "text": [
      "\u001b[1m15/15\u001b[0m \u001b[32m━━━━━━━━━━━━━━━━━━━━\u001b[0m\u001b[37m\u001b[0m \u001b[1m1s\u001b[0m 14ms/step - accuracy: 0.7054 - loss: 0.5699 - val_accuracy: 1.0000 - val_loss: 0.4125\n",
      "Epoch 2/40\n",
      "\u001b[1m15/15\u001b[0m \u001b[32m━━━━━━━━━━━━━━━━━━━━\u001b[0m\u001b[37m\u001b[0m \u001b[1m0s\u001b[0m 6ms/step - accuracy: 0.9076 - loss: 0.3855 - val_accuracy: 1.0000 - val_loss: 0.2839\n",
      "Epoch 3/40\n",
      "\u001b[1m15/15\u001b[0m \u001b[32m━━━━━━━━━━━━━━━━━━━━\u001b[0m\u001b[37m\u001b[0m \u001b[1m0s\u001b[0m 5ms/step - accuracy: 0.9569 - loss: 0.2850 - val_accuracy: 1.0000 - val_loss: 0.1923\n",
      "Epoch 4/40\n",
      "\u001b[1m15/15\u001b[0m \u001b[32m━━━━━━━━━━━━━━━━━━━━\u001b[0m\u001b[37m\u001b[0m \u001b[1m0s\u001b[0m 6ms/step - accuracy: 0.9541 - loss: 0.2217 - val_accuracy: 1.0000 - val_loss: 0.1288\n",
      "Epoch 5/40\n",
      "\u001b[1m15/15\u001b[0m \u001b[32m━━━━━━━━━━━━━━━━━━━━\u001b[0m\u001b[37m\u001b[0m \u001b[1m0s\u001b[0m 8ms/step - accuracy: 0.9809 - loss: 0.1517 - val_accuracy: 1.0000 - val_loss: 0.0876\n",
      "Epoch 6/40\n",
      "\u001b[1m15/15\u001b[0m \u001b[32m━━━━━━━━━━━━━━━━━━━━\u001b[0m\u001b[37m\u001b[0m \u001b[1m0s\u001b[0m 6ms/step - accuracy: 1.0000 - loss: 0.1180 - val_accuracy: 1.0000 - val_loss: 0.0608\n",
      "Epoch 7/40\n",
      "\u001b[1m15/15\u001b[0m \u001b[32m━━━━━━━━━━━━━━━━━━━━\u001b[0m\u001b[37m\u001b[0m \u001b[1m0s\u001b[0m 6ms/step - accuracy: 1.0000 - loss: 0.0840 - val_accuracy: 1.0000 - val_loss: 0.0420\n",
      "Epoch 8/40\n",
      "\u001b[1m15/15\u001b[0m \u001b[32m━━━━━━━━━━━━━━━━━━━━\u001b[0m\u001b[37m\u001b[0m \u001b[1m0s\u001b[0m 6ms/step - accuracy: 1.0000 - loss: 0.0676 - val_accuracy: 1.0000 - val_loss: 0.0295\n",
      "Epoch 9/40\n",
      "\u001b[1m15/15\u001b[0m \u001b[32m━━━━━━━━━━━━━━━━━━━━\u001b[0m\u001b[37m\u001b[0m \u001b[1m0s\u001b[0m 6ms/step - accuracy: 1.0000 - loss: 0.0559 - val_accuracy: 1.0000 - val_loss: 0.0210\n",
      "Epoch 10/40\n",
      "\u001b[1m15/15\u001b[0m \u001b[32m━━━━━━━━━━━━━━━━━━━━\u001b[0m\u001b[37m\u001b[0m \u001b[1m0s\u001b[0m 9ms/step - accuracy: 1.0000 - loss: 0.0449 - val_accuracy: 1.0000 - val_loss: 0.0157\n",
      "Epoch 11/40\n",
      "\u001b[1m15/15\u001b[0m \u001b[32m━━━━━━━━━━━━━━━━━━━━\u001b[0m\u001b[37m\u001b[0m \u001b[1m0s\u001b[0m 6ms/step - accuracy: 1.0000 - loss: 0.0448 - val_accuracy: 1.0000 - val_loss: 0.0116\n",
      "Epoch 12/40\n",
      "\u001b[1m15/15\u001b[0m \u001b[32m━━━━━━━━━━━━━━━━━━━━\u001b[0m\u001b[37m\u001b[0m \u001b[1m0s\u001b[0m 6ms/step - accuracy: 1.0000 - loss: 0.0361 - val_accuracy: 1.0000 - val_loss: 0.0084\n",
      "Epoch 13/40\n",
      "\u001b[1m15/15\u001b[0m \u001b[32m━━━━━━━━━━━━━━━━━━━━\u001b[0m\u001b[37m\u001b[0m \u001b[1m0s\u001b[0m 5ms/step - accuracy: 1.0000 - loss: 0.0298 - val_accuracy: 1.0000 - val_loss: 0.0064\n",
      "Epoch 14/40\n",
      "\u001b[1m15/15\u001b[0m \u001b[32m━━━━━━━━━━━━━━━━━━━━\u001b[0m\u001b[37m\u001b[0m \u001b[1m0s\u001b[0m 6ms/step - accuracy: 1.0000 - loss: 0.0272 - val_accuracy: 1.0000 - val_loss: 0.0049\n",
      "Epoch 15/40\n",
      "\u001b[1m15/15\u001b[0m \u001b[32m━━━━━━━━━━━━━━━━━━━━\u001b[0m\u001b[37m\u001b[0m \u001b[1m0s\u001b[0m 5ms/step - accuracy: 1.0000 - loss: 0.0176 - val_accuracy: 1.0000 - val_loss: 0.0039\n",
      "Epoch 16/40\n",
      "\u001b[1m15/15\u001b[0m \u001b[32m━━━━━━━━━━━━━━━━━━━━\u001b[0m\u001b[37m\u001b[0m \u001b[1m0s\u001b[0m 6ms/step - accuracy: 1.0000 - loss: 0.0231 - val_accuracy: 1.0000 - val_loss: 0.0031\n",
      "Epoch 17/40\n",
      "\u001b[1m15/15\u001b[0m \u001b[32m━━━━━━━━━━━━━━━━━━━━\u001b[0m\u001b[37m\u001b[0m \u001b[1m0s\u001b[0m 6ms/step - accuracy: 1.0000 - loss: 0.0247 - val_accuracy: 1.0000 - val_loss: 0.0025\n",
      "Epoch 18/40\n",
      "\u001b[1m15/15\u001b[0m \u001b[32m━━━━━━━━━━━━━━━━━━━━\u001b[0m\u001b[37m\u001b[0m \u001b[1m0s\u001b[0m 6ms/step - accuracy: 1.0000 - loss: 0.0163 - val_accuracy: 1.0000 - val_loss: 0.0020\n",
      "Epoch 19/40\n",
      "\u001b[1m15/15\u001b[0m \u001b[32m━━━━━━━━━━━━━━━━━━━━\u001b[0m\u001b[37m\u001b[0m \u001b[1m0s\u001b[0m 7ms/step - accuracy: 1.0000 - loss: 0.0112 - val_accuracy: 1.0000 - val_loss: 0.0017\n",
      "Epoch 20/40\n",
      "\u001b[1m15/15\u001b[0m \u001b[32m━━━━━━━━━━━━━━━━━━━━\u001b[0m\u001b[37m\u001b[0m \u001b[1m0s\u001b[0m 6ms/step - accuracy: 1.0000 - loss: 0.0117 - val_accuracy: 1.0000 - val_loss: 0.0015\n",
      "Epoch 21/40\n",
      "\u001b[1m15/15\u001b[0m \u001b[32m━━━━━━━━━━━━━━━━━━━━\u001b[0m\u001b[37m\u001b[0m \u001b[1m0s\u001b[0m 5ms/step - accuracy: 1.0000 - loss: 0.0086 - val_accuracy: 1.0000 - val_loss: 0.0013\n",
      "Epoch 22/40\n",
      "\u001b[1m15/15\u001b[0m \u001b[32m━━━━━━━━━━━━━━━━━━━━\u001b[0m\u001b[37m\u001b[0m \u001b[1m0s\u001b[0m 6ms/step - accuracy: 1.0000 - loss: 0.0199 - val_accuracy: 1.0000 - val_loss: 0.0011\n",
      "Epoch 23/40\n",
      "\u001b[1m15/15\u001b[0m \u001b[32m━━━━━━━━━━━━━━━━━━━━\u001b[0m\u001b[37m\u001b[0m \u001b[1m0s\u001b[0m 5ms/step - accuracy: 1.0000 - loss: 0.0116 - val_accuracy: 1.0000 - val_loss: 9.4194e-04\n",
      "Epoch 24/40\n",
      "\u001b[1m15/15\u001b[0m \u001b[32m━━━━━━━━━━━━━━━━━━━━\u001b[0m\u001b[37m\u001b[0m \u001b[1m0s\u001b[0m 5ms/step - accuracy: 1.0000 - loss: 0.0043 - val_accuracy: 1.0000 - val_loss: 8.2575e-04\n",
      "Epoch 25/40\n",
      "\u001b[1m15/15\u001b[0m \u001b[32m━━━━━━━━━━━━━━━━━━━━\u001b[0m\u001b[37m\u001b[0m \u001b[1m0s\u001b[0m 6ms/step - accuracy: 1.0000 - loss: 0.0153 - val_accuracy: 1.0000 - val_loss: 7.1340e-04\n",
      "Epoch 26/40\n",
      "\u001b[1m15/15\u001b[0m \u001b[32m━━━━━━━━━━━━━━━━━━━━\u001b[0m\u001b[37m\u001b[0m \u001b[1m0s\u001b[0m 8ms/step - accuracy: 1.0000 - loss: 0.0063 - val_accuracy: 1.0000 - val_loss: 6.2172e-04\n",
      "Epoch 27/40\n",
      "\u001b[1m15/15\u001b[0m \u001b[32m━━━━━━━━━━━━━━━━━━━━\u001b[0m\u001b[37m\u001b[0m \u001b[1m0s\u001b[0m 7ms/step - accuracy: 1.0000 - loss: 0.0073 - val_accuracy: 1.0000 - val_loss: 5.4414e-04\n",
      "Epoch 28/40\n",
      "\u001b[1m15/15\u001b[0m \u001b[32m━━━━━━━━━━━━━━━━━━━━\u001b[0m\u001b[37m\u001b[0m \u001b[1m0s\u001b[0m 5ms/step - accuracy: 1.0000 - loss: 0.0134 - val_accuracy: 1.0000 - val_loss: 4.7667e-04\n",
      "Epoch 29/40\n",
      "\u001b[1m15/15\u001b[0m \u001b[32m━━━━━━━━━━━━━━━━━━━━\u001b[0m\u001b[37m\u001b[0m \u001b[1m0s\u001b[0m 6ms/step - accuracy: 1.0000 - loss: 0.0188 - val_accuracy: 1.0000 - val_loss: 4.1694e-04\n",
      "Epoch 30/40\n",
      "\u001b[1m15/15\u001b[0m \u001b[32m━━━━━━━━━━━━━━━━━━━━\u001b[0m\u001b[37m\u001b[0m \u001b[1m0s\u001b[0m 6ms/step - accuracy: 1.0000 - loss: 0.0071 - val_accuracy: 1.0000 - val_loss: 3.6536e-04\n",
      "Epoch 31/40\n",
      "\u001b[1m15/15\u001b[0m \u001b[32m━━━━━━━━━━━━━━━━━━━━\u001b[0m\u001b[37m\u001b[0m \u001b[1m0s\u001b[0m 6ms/step - accuracy: 1.0000 - loss: 0.0080 - val_accuracy: 1.0000 - val_loss: 3.1761e-04\n",
      "Epoch 32/40\n",
      "\u001b[1m15/15\u001b[0m \u001b[32m━━━━━━━━━━━━━━━━━━━━\u001b[0m\u001b[37m\u001b[0m \u001b[1m0s\u001b[0m 6ms/step - accuracy: 1.0000 - loss: 0.0040 - val_accuracy: 1.0000 - val_loss: 2.8492e-04\n",
      "Epoch 33/40\n",
      "\u001b[1m15/15\u001b[0m \u001b[32m━━━━━━━━━━━━━━━━━━━━\u001b[0m\u001b[37m\u001b[0m \u001b[1m0s\u001b[0m 8ms/step - accuracy: 1.0000 - loss: 0.0030 - val_accuracy: 1.0000 - val_loss: 2.5910e-04\n",
      "Epoch 34/40\n",
      "\u001b[1m15/15\u001b[0m \u001b[32m━━━━━━━━━━━━━━━━━━━━\u001b[0m\u001b[37m\u001b[0m \u001b[1m0s\u001b[0m 6ms/step - accuracy: 1.0000 - loss: 0.0109 - val_accuracy: 1.0000 - val_loss: 2.3257e-04\n",
      "Epoch 35/40\n",
      "\u001b[1m15/15\u001b[0m \u001b[32m━━━━━━━━━━━━━━━━━━━━\u001b[0m\u001b[37m\u001b[0m \u001b[1m0s\u001b[0m 5ms/step - accuracy: 1.0000 - loss: 0.0030 - val_accuracy: 1.0000 - val_loss: 2.0816e-04\n",
      "Epoch 36/40\n",
      "\u001b[1m15/15\u001b[0m \u001b[32m━━━━━━━━━━━━━━━━━━━━\u001b[0m\u001b[37m\u001b[0m \u001b[1m0s\u001b[0m 7ms/step - accuracy: 1.0000 - loss: 0.0025 - val_accuracy: 1.0000 - val_loss: 1.8963e-04\n",
      "Epoch 37/40\n",
      "\u001b[1m15/15\u001b[0m \u001b[32m━━━━━━━━━━━━━━━━━━━━\u001b[0m\u001b[37m\u001b[0m \u001b[1m0s\u001b[0m 9ms/step - accuracy: 1.0000 - loss: 0.0047 - val_accuracy: 1.0000 - val_loss: 1.7188e-04\n",
      "Epoch 38/40\n",
      "\u001b[1m15/15\u001b[0m \u001b[32m━━━━━━━━━━━━━━━━━━━━\u001b[0m\u001b[37m\u001b[0m \u001b[1m0s\u001b[0m 6ms/step - accuracy: 1.0000 - loss: 0.0065 - val_accuracy: 1.0000 - val_loss: 1.5566e-04\n",
      "Epoch 39/40\n",
      "\u001b[1m15/15\u001b[0m \u001b[32m━━━━━━━━━━━━━━━━━━━━\u001b[0m\u001b[37m\u001b[0m \u001b[1m0s\u001b[0m 6ms/step - accuracy: 1.0000 - loss: 0.0021 - val_accuracy: 1.0000 - val_loss: 1.4361e-04\n",
      "Epoch 40/40\n",
      "\u001b[1m15/15\u001b[0m \u001b[32m━━━━━━━━━━━━━━━━━━━━\u001b[0m\u001b[37m\u001b[0m \u001b[1m0s\u001b[0m 6ms/step - accuracy: 1.0000 - loss: 0.0028 - val_accuracy: 1.0000 - val_loss: 1.3330e-04\n"
     ]
    }
   ],
   "source": [
    "best_model = tuner.hypermodel.build(best_hps)\n",
    "\n",
    "history = best_model.fit(X_train, y_train, validation_data=(X_test, y_test), epochs=40, batch_size=16)\n"
   ]
  },
  {
   "cell_type": "markdown",
   "id": "9ac73646-6f8c-4526-856f-f8ed814efe13",
   "metadata": {},
   "source": [
    "### **Step 11: Evaluate the Model**\n",
    "Assess the model's performance on test data."
   ]
  },
  {
   "cell_type": "code",
   "execution_count": 11,
   "id": "eae6a5db-89d9-4783-ac7a-f56be2706a40",
   "metadata": {},
   "outputs": [
    {
     "name": "stdout",
     "output_type": "stream",
     "text": [
      "\u001b[1m2/2\u001b[0m \u001b[32m━━━━━━━━━━━━━━━━━━━━\u001b[0m\u001b[37m\u001b[0m \u001b[1m0s\u001b[0m 12ms/step - accuracy: 1.0000 - loss: 2.9606e-05\n",
      "Test Accuracy: 1.00\n"
     ]
    }
   ],
   "source": [
    "loss, accuracy = best_model.evaluate(X_test, y_test)\n",
    "print(f\"Test Accuracy: {accuracy:.2f}\")\n"
   ]
  },
  {
   "cell_type": "markdown",
   "id": "82ae67c8-0a2a-4cfc-8f6d-8948bdfff171",
   "metadata": {},
   "source": [
    "### **Step 12: Perform Cross-Validation**\n",
    "Validate the model's performance using Stratified K-Fold."
   ]
  },
  {
   "cell_type": "code",
   "execution_count": 12,
   "id": "63e103bd-5821-4c67-bad2-33dfab94aeab",
   "metadata": {},
   "outputs": [
    {
     "name": "stderr",
     "output_type": "stream",
     "text": [
      "/home/akkey/.local/lib/python3.10/site-packages/keras/src/layers/core/dense.py:87: UserWarning: Do not pass an `input_shape`/`input_dim` argument to a layer. When using Sequential models, prefer using an `Input(shape)` object as the first layer in the model instead.\n",
      "  super().__init__(activity_regularizer=activity_regularizer, **kwargs)\n",
      "/home/akkey/.local/lib/python3.10/site-packages/keras/src/layers/core/dense.py:87: UserWarning: Do not pass an `input_shape`/`input_dim` argument to a layer. When using Sequential models, prefer using an `Input(shape)` object as the first layer in the model instead.\n",
      "  super().__init__(activity_regularizer=activity_regularizer, **kwargs)\n",
      "/home/akkey/.local/lib/python3.10/site-packages/keras/src/layers/core/dense.py:87: UserWarning: Do not pass an `input_shape`/`input_dim` argument to a layer. When using Sequential models, prefer using an `Input(shape)` object as the first layer in the model instead.\n",
      "  super().__init__(activity_regularizer=activity_regularizer, **kwargs)\n",
      "/home/akkey/.local/lib/python3.10/site-packages/keras/src/layers/core/dense.py:87: UserWarning: Do not pass an `input_shape`/`input_dim` argument to a layer. When using Sequential models, prefer using an `Input(shape)` object as the first layer in the model instead.\n",
      "  super().__init__(activity_regularizer=activity_regularizer, **kwargs)\n",
      "/home/akkey/.local/lib/python3.10/site-packages/keras/src/layers/core/dense.py:87: UserWarning: Do not pass an `input_shape`/`input_dim` argument to a layer. When using Sequential models, prefer using an `Input(shape)` object as the first layer in the model instead.\n",
      "  super().__init__(activity_regularizer=activity_regularizer, **kwargs)\n"
     ]
    },
    {
     "name": "stdout",
     "output_type": "stream",
     "text": [
      "Cross-Validation Accuracy: 1.00 ± 0.00\n"
     ]
    }
   ],
   "source": [
    "def cross_validate_model(X, y, model_builder, n_splits=5):\n",
    "    kfold = StratifiedKFold(n_splits=n_splits, shuffle=True, random_state=42)\n",
    "    scores = []\n",
    "\n",
    "    for train_idx, test_idx in kfold.split(X, y):\n",
    "        X_train_fold, X_test_fold = X[train_idx], X[test_idx]\n",
    "        y_train_fold, y_test_fold = y[train_idx], y[test_idx]\n",
    "\n",
    "        model = model_builder()\n",
    "        model.fit(X_train_fold, y_train_fold, epochs=20, batch_size=16, verbose=0)\n",
    "\n",
    "        _, accuracy = model.evaluate(X_test_fold, y_test_fold, verbose=0)\n",
    "        scores.append(accuracy)\n",
    "\n",
    "    return np.array(scores)\n",
    "\n",
    "def build_model_from_best_hps():\n",
    "    return tuner.hypermodel.build(best_hps)\n",
    "\n",
    "scores = cross_validate_model(features, target, build_model_from_best_hps)\n",
    "print(f\"Cross-Validation Accuracy: {scores.mean():.2f} ± {scores.std():.2f}\")\n"
   ]
  },
  {
   "cell_type": "markdown",
   "id": "9ab1a14d-a020-423c-8a66-1397a293d0e5",
   "metadata": {},
   "source": [
    "### **Step 13: Visualize Training History**\n",
    "Plot the training and validation accuracy."
   ]
  },
  {
   "cell_type": "code",
   "execution_count": 13,
   "id": "fc31a5f1-1269-4e29-b760-7a83cdee33d4",
   "metadata": {},
   "outputs": [
    {
     "data": {
      "image/png": "[encoded data removed]",
      "text/plain": [
       "<Figure size 640x480 with 1 Axes>"
      ]
     },
     "metadata": {},
     "output_type": "display_data"
    },
    {
     "data": {
      "text/plain": [
       "<Figure size 640x480 with 0 Axes>"
      ]
     },
     "metadata": {},
     "output_type": "display_data"
    }
   ],
   "source": [
    "plt.plot(history.history['accuracy'], label='Training Accuracy')\n",
    "plt.plot(history.history['val_accuracy'], label='Validation Accuracy')\n",
    "plt.xlabel('Epochs')\n",
    "plt.ylabel('Accuracy')\n",
    "plt.legend()\n",
    "plt.show()\n",
    "plt.savefig('/home/akkey/Code_chorni/Breast_cancer/training_validation_accuracy.png')\n"
   ]
  },
  {
   "cell_type": "markdown",
   "id": "b3fe631c-85f7-4765-a318-9ae0446bd148",
   "metadata": {},
   "source": [
    "### **Step 14: Generate a Confusion Matrix**\n",
    "Analyze predictions using a confusion matrix and classification report."
   ]
  },
  {
   "cell_type": "code",
   "execution_count": 14,
   "id": "eecef697-27b3-478d-9c0b-e544ab21d5c7",
   "metadata": {},
   "outputs": [
    {
     "name": "stdout",
     "output_type": "stream",
     "text": [
      "\u001b[1m2/2\u001b[0m \u001b[32m━━━━━━━━━━━━━━━━━━━━\u001b[0m\u001b[37m\u001b[0m \u001b[1m0s\u001b[0m 41ms/step\n",
      "[[58]]\n",
      "              precision    recall  f1-score   support\n",
      "\n",
      "           0       1.00      1.00      1.00        58\n",
      "\n",
      "    accuracy                           1.00        58\n",
      "   macro avg       1.00      1.00      1.00        58\n",
      "weighted avg       1.00      1.00      1.00        58\n",
      "\n"
     ]
    },
    {
     "name": "stderr",
     "output_type": "stream",
     "text": [
      "/home/akkey/.local/lib/python3.10/site-packages/sklearn/metrics/_classification.py:407: UserWarning: A single label was found in 'y_true' and 'y_pred'. For the confusion matrix to have the correct shape, use the 'labels' parameter to pass all known labels.\n",
      "  warnings.warn(\n"
     ]
    }
   ],
   "source": [
    "predictions = (best_model.predict(X_test) > 0.5).astype(int)\n",
    "print(confusion_matrix(y_test, predictions))\n",
    "print(classification_report(y_test, predictions))\n"
   ]
  }
 ],
 "metadata": {
  "kernelspec": {
   "display_name": "Python 3 (ipykernel)",
   "language": "python",
   "name": "python3"
  },
  "language_info": {
   "codemirror_mode": {
    "name": "ipython",
    "version": 3
   },
   "file_extension": ".py",
   "mimetype": "text/x-python",
   "name": "python",
   "nbconvert_exporter": "python",
   "pygments_lexer": "ipython3",
   "version": "3.10.12"
  }
 },
 "nbformat": 4,
 "nbformat_minor": 5
}
